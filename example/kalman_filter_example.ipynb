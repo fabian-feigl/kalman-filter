{
 "cells": [
  {
   "cell_type": "code",
   "execution_count": 12,
   "metadata": {},
   "outputs": [
    {
     "name": "stdout",
     "output_type": "stream",
     "text": [
      "motion_model_type: CONSTANT_ACCELERATION\n",
      "motion_model_parameters {\n",
      "  delta_time: 1.0\n",
      "  process_variance_acceleration: 9.0\n",
      "  system_states: 3\n",
      "}\n",
      "\n"
     ]
    }
   ],
   "source": [
    "import sys\n",
    "import os\n",
    "import grpc\n",
    "\n",
    "from google.protobuf.empty_pb2 import Empty\n",
    "\n",
    "import kalman.services.kalman_filter_pb2_grpc as api\n",
    "import kalman.services.kalman_filter_pb2 as api_data\n",
    "\n",
    "from kalman.data.motion_model_pb2 import MotionModel, MotionModelParameters\n",
    "from kalman.data.data_pb2 import Measurement, Estimate\n",
    "\n",
    "with grpc.insecure_channel(\"0.0.0.0:5000\") as channel:\n",
    "    kalman_stub = api.KalmanFilterRPCStub(channel)\n",
    "    parameters = MotionModelParameters()\n",
    "    parameters.delta_time = 1\n",
    "    parameters.process_variance_acceleration = 9\n",
    "    parameters.system_states = 3\n",
    "    motion_model = MotionModel(motion_model_type=MotionModel.CONSTANT_ACCELERATION, motion_model_parameters=parameters)\n",
    "    print(motion_model)\n"
   ]
  },
  {
   "cell_type": "code",
   "execution_count": 14,
   "metadata": {},
   "outputs": [
    {
     "name": "stdout",
     "output_type": "stream",
     "text": [
      "\n"
     ]
    }
   ],
   "source": [
    "with grpc.insecure_channel(\"0.0.0.0:5000\") as channel:\n",
    "    kalman_stub = api.KalmanFilterRPCStub(channel)\n",
    "    request = api_data.CreateRequest(identifier=\"x\", motion_model=motion_model, measurement_variance=0.1)\n",
    "    response = kalman_stub.Create(request)\n",
    "    print(f\"{response}\")"
   ]
  },
  {
   "cell_type": "code",
   "execution_count": 15,
   "metadata": {},
   "outputs": [
    {
     "name": "stdout",
     "output_type": "stream",
     "text": [
      "Response is estimate {\n",
      "}\n",
      "\n"
     ]
    }
   ],
   "source": [
    "with grpc.insecure_channel(\"0.0.0.0:5000\") as channel:\n",
    "    kalman_stub = api.KalmanFilterRPCStub(channel)\n",
    "    request = api_data.GetRequest(identifier=\"x\")\n",
    "    response = kalman_stub.Get(request)\n",
    "    print(f\"Response is {response}\")"
   ]
  },
  {
   "cell_type": "code",
   "execution_count": 11,
   "metadata": {},
   "outputs": [
    {
     "name": "stdout",
     "output_type": "stream",
     "text": [
      "Response is estimate {\n",
      "  value: 302.083984375\n",
      "}\n",
      "\n"
     ]
    }
   ],
   "source": [
    "with grpc.insecure_channel(\"0.0.0.0:5000\") as channel:\n",
    "    kalman_stub = api.KalmanFilterRPCStub(channel)\n",
    "    measurement = Measurement(value=300)\n",
    "    request = api_data.TickRequest(identifier=\"x\", measurement=measurement)\n",
    "    response = kalman_stub.Tick(request)\n",
    "    print(f\"Response is {response}\")"
   ]
  },
  {
   "cell_type": "code",
   "execution_count": null,
   "metadata": {},
   "outputs": [],
   "source": []
  },
  {
   "cell_type": "code",
   "execution_count": null,
   "metadata": {},
   "outputs": [],
   "source": []
  }
 ],
 "metadata": {
  "kernelspec": {
   "display_name": "Python 3.8.10 64-bit",
   "language": "python",
   "name": "python3"
  },
  "language_info": {
   "codemirror_mode": {
    "name": "ipython",
    "version": 3
   },
   "file_extension": ".py",
   "mimetype": "text/x-python",
   "name": "python",
   "nbconvert_exporter": "python",
   "pygments_lexer": "ipython3",
   "version": "3.8.10"
  },
  "orig_nbformat": 4,
  "vscode": {
   "interpreter": {
    "hash": "916dbcbb3f70747c44a77c7bcd40155683ae19c65e1c03b4aa3499c5328201f1"
   }
  }
 },
 "nbformat": 4,
 "nbformat_minor": 2
}
